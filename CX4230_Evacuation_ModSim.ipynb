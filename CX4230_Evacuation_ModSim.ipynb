{
 "cells": [
  {
   "cell_type": "code",
   "execution_count": 80,
   "metadata": {},
   "outputs": [],
   "source": [
    "# Imports\n",
    "\n",
    "import matplotlib\n",
    "import numpy as np\n",
    "from enum import Enum"
   ]
  },
  {
   "cell_type": "code",
   "execution_count": 81,
   "metadata": {},
   "outputs": [],
   "source": [
    "# Coordinate Class\n",
    "# Source: http://pythonfiddle.com/coordinate-class/\n",
    "\n",
    "class Coordinate(object):\n",
    "    \n",
    "    def __init__(self,x,y):\n",
    "        self.x = x\n",
    "        self.y = y\n",
    "\n",
    "    def getX(self):\n",
    "        return self.x\n",
    "    def getY(self):\n",
    "        return self.y\n",
    "\n",
    "    def __str__(self):\n",
    "        return '<' + str(self.getX()) + ',' + str(self.getY()) + '>'  \n",
    "    def __unicode__(self):\n",
    "        return '<' + str(self.getX()) + ',' + str(self.getY()) + '>'\n",
    "    def __repr__(self):\n",
    "        return '<' + str(self.getX()) + ',' + str(self.getY()) + '>'\n",
    "    \n",
    "    def __eq__(self, other):\n",
    "        return self.y == other.y and self.x == other.x"
   ]
  },
  {
   "cell_type": "code",
   "execution_count": 82,
   "metadata": {},
   "outputs": [],
   "source": [
    "# RoomElement Enum\n",
    "\n",
    "class RoomElement(Enum):\n",
    "    EMPTY = 0\n",
    "    WALL = 1\n",
    "    DOOR = 2\n",
    "    OBSTACLE = 3\n",
    "    EXIT = 4"
   ]
  },
  {
   "cell_type": "code",
   "execution_count": 84,
   "metadata": {},
   "outputs": [],
   "source": [
    "# Room Class\n",
    "\n",
    "class Room():\n",
    "    \n",
    "    def __init__(self):\n",
    "        self.map = np.array([[]])\n",
    "        \n",
    "    def __init__(self, m):\n",
    "        self.map = np.array(m)\n",
    "        \n",
    "    def get_exits(self):\n",
    "        exits = []\n",
    "        y = 0\n",
    "        for row in self.map:\n",
    "            x = 0\n",
    "            for value in row:\n",
    "                if value == RoomElement.EXIT.value:\n",
    "                    coord = Coordinate(y, x)\n",
    "                    exits.append(coord)\n",
    "                x += 1   \n",
    "            y += 1\n",
    "        return exits\n",
    "    \n",
    "    def path_to_destination(self, start, end):\n",
    "        # can walk through empty (0), doors (2). can't walk through walls (1) or obstacles (3). \n",
    "        # empty should be start, exit should be end.\n",
    "        # return path (optional: and distance)\n",
    "        # TODO: Implement this.\n",
    "        return []\n",
    "    \n",
    "    def best_path(self, paths):\n",
    "        # TODO: Implement this after implementing path_to_destination.\n",
    "        return None"
   ]
  },
  {
   "cell_type": "code",
   "execution_count": 87,
   "metadata": {},
   "outputs": [
    {
     "name": "stdout",
     "output_type": "stream",
     "text": [
      "[<0,8>]\n"
     ]
    }
   ],
   "source": [
    "# ROOM 1\n",
    "# One exit in a walled empty room.\n",
    "room_1_map = [\n",
    "    [1, 1, 1, 1, 1, 1, 1, 1, 4, 1],\n",
    "    [1, 0, 0, 0, 0, 0, 0, 0, 0, 1],\n",
    "    [1, 0, 0, 0, 0, 0, 0, 0, 0, 1],\n",
    "    [1, 0, 0, 0, 0, 0, 0, 0, 0, 1],\n",
    "    [1, 0, 0, 0, 0, 0, 0, 0, 0, 1],\n",
    "    [1, 0, 0, 0, 0, 0, 0, 0, 0, 1],\n",
    "    [1, 0, 0, 0, 0, 0, 0, 0, 0, 1],\n",
    "    [1, 0, 0, 0, 0, 0, 0, 0, 0, 1],\n",
    "    [1, 0, 0, 0, 0, 0, 0, 0, 0, 1],\n",
    "    [1, 1, 1, 1, 1, 1, 1, 1, 1, 1]\n",
    "]\n",
    "\n",
    "room_1 = Room(room_1_map)\n",
    "room_1_exits = room_1.get_exits()\n",
    "print(room_1_exits)"
   ]
  },
  {
   "cell_type": "code",
   "execution_count": 88,
   "metadata": {},
   "outputs": [
    {
     "name": "stdout",
     "output_type": "stream",
     "text": [
      "[<0,8>]\n"
     ]
    }
   ],
   "source": [
    "# ROOM 2\n",
    "# Same as room 1 but the walking path is a square.\n",
    "room_2_map = [\n",
    "    [1, 1, 1, 1, 1, 1, 1, 1, 4, 1],\n",
    "    [1, 0, 0, 0, 0, 0, 0, 0, 0, 1],\n",
    "    [1, 0, 1, 1, 1, 1, 1, 1, 0, 1],\n",
    "    [1, 0, 1, 1, 1, 1, 1, 1, 0, 1],\n",
    "    [1, 2, 1, 1, 1, 1, 1, 1, 3, 1],\n",
    "    [1, 0, 1, 1, 1, 1, 1, 1, 0, 1],\n",
    "    [1, 0, 1, 1, 1, 1, 1, 1, 0, 1],\n",
    "    [1, 0, 1, 1, 1, 1, 1, 1, 0, 1],\n",
    "    [1, 0, 0, 0, 0, 0, 0, 0, 0, 1],\n",
    "    [1, 1, 1, 1, 1, 1, 1, 1, 1, 1]\n",
    "]\n",
    "\n",
    "room_2 = Room(room_2_map)\n",
    "room_2_exits = room_2.get_exits()\n",
    "print(room_2_exits)"
   ]
  },
  {
   "cell_type": "code",
   "execution_count": 89,
   "metadata": {},
   "outputs": [
    {
     "name": "stdout",
     "output_type": "stream",
     "text": [
      "[<0,8>, <9,1>]\n"
     ]
    }
   ],
   "source": [
    "# ROOM 3\n",
    "# Same as Room 1 but with two exits.\n",
    "room_3_map = [\n",
    "    [1, 1, 1, 1, 1, 1, 1, 1, 4, 1],\n",
    "    [1, 0, 0, 0, 0, 0, 0, 0, 0, 1],\n",
    "    [1, 0, 0, 0, 0, 0, 0, 0, 0, 1],\n",
    "    [1, 0, 0, 0, 0, 0, 0, 0, 0, 1],\n",
    "    [1, 0, 0, 0, 0, 0, 0, 0, 0, 1],\n",
    "    [1, 0, 0, 0, 0, 0, 0, 0, 0, 1],\n",
    "    [1, 0, 0, 0, 0, 0, 0, 0, 0, 1],\n",
    "    [1, 0, 0, 0, 0, 0, 0, 0, 0, 1],\n",
    "    [1, 0, 0, 0, 0, 0, 0, 0, 0, 1],\n",
    "    [1, 4, 1, 1, 1, 1, 1, 1, 1, 1]\n",
    "]\n",
    "\n",
    "room_3 = Room(room_3_map)\n",
    "room_3_exits = room_3.get_exits()\n",
    "print(room_3_exits)"
   ]
  },
  {
   "cell_type": "code",
   "execution_count": null,
   "metadata": {},
   "outputs": [],
   "source": []
  }
 ],
 "metadata": {
  "kernelspec": {
   "display_name": "Python 3",
   "language": "python",
   "name": "python3"
  },
  "language_info": {
   "codemirror_mode": {
    "name": "ipython",
    "version": 3
   },
   "file_extension": ".py",
   "mimetype": "text/x-python",
   "name": "python",
   "nbconvert_exporter": "python",
   "pygments_lexer": "ipython3",
   "version": "3.8.3"
  }
 },
 "nbformat": 4,
 "nbformat_minor": 4
}
